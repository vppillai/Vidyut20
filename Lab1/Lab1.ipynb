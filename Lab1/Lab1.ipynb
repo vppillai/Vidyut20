{
 "cells": [
  {
   "cell_type": "markdown",
   "metadata": {},
   "source": [
    "![Logo](resources/vidyuthLogo50.png)\n",
    "# Welcome to Lab1 of Python for cloud and embedded systems @ Vidyut '20. \n",
    "\n",
    "### In this exercise, we will get our Jupyter Notebook environment setup ready for development"
   ]
  },
  {
   "cell_type": "code",
   "execution_count": 1,
   "metadata": {},
   "outputs": [
    {
     "name": "stdout",
     "output_type": "stream",
     "text": [
      "Hello Vidyut 2020\n"
     ]
    }
   ],
   "source": [
    "print(\"Hello Vidyut 2020\")"
   ]
  }
 ],
 "metadata": {
  "kernelspec": {
   "display_name": "Python 3",
   "language": "python",
   "name": "python3"
  },
  "language_info": {
   "codemirror_mode": {
    "name": "ipython",
    "version": 3
   },
   "file_extension": ".py",
   "mimetype": "text/x-python",
   "name": "python",
   "nbconvert_exporter": "python",
   "pygments_lexer": "ipython3",
   "version": "3.7.4"
  }
 },
 "nbformat": 4,
 "nbformat_minor": 2
}

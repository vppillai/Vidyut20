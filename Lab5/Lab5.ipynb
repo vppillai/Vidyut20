{
 "cells": [
  {
   "cell_type": "markdown",
   "metadata": {},
   "source": [
    "# Generating a QR Code with custom text using Google Web APIs"
   ]
  },
  {
   "cell_type": "markdown",
   "metadata": {},
   "source": [
    "![QRCode](https://chart.googleapis.com/chart?chs=150x150&cht=qr&chl=Hello%20world)\n",
    "\n",
    "This QR Code resolves to \"Hello World\". Use your phone camera to test it. "
   ]
  },
  {
   "cell_type": "markdown",
   "metadata": {},
   "source": [
    "## URL used to generate this QR Code is : \n",
    "\n",
    "`https://chart.googleapis.com/chart?chs=150x150&cht=qr&chl=Hello%20world`\n",
    "\n",
    "Look at the individual parameters that are passed to the API. try modifying them to see the result change. \n",
    "\n",
    "- `chs`\n",
    "- `cht`\n",
    "- `chl`"
   ]
  }
 ],
 "metadata": {
  "kernelspec": {
   "display_name": "Python 3",
   "language": "python",
   "name": "python3"
  },
  "language_info": {
   "codemirror_mode": {
    "name": "ipython",
    "version": 3
   },
   "file_extension": ".py",
   "mimetype": "text/x-python",
   "name": "python",
   "nbconvert_exporter": "python",
   "pygments_lexer": "ipython3",
   "version": "3.7.4"
  }
 },
 "nbformat": 4,
 "nbformat_minor": 2
}
